{
 "cells": [
  {
   "cell_type": "code",
   "execution_count": 1,
   "metadata": {},
   "outputs": [],
   "source": [
    "import pandas as pd\n",
    "import numpy as np\n",
    "import random\n",
    "import os"
   ]
  },
  {
   "cell_type": "code",
   "execution_count": 2,
   "metadata": {},
   "outputs": [],
   "source": [
    "os.chdir('Data')"
   ]
  },
  {
   "cell_type": "code",
   "execution_count": 3,
   "metadata": {},
   "outputs": [],
   "source": [
    "student = pd.read_csv('student.csv')\n",
    "user = pd.read_csv('user.csv')\n",
    "group = pd.read_csv('group.csv')"
   ]
  },
  {
   "cell_type": "code",
   "execution_count": 4,
   "metadata": {},
   "outputs": [],
   "source": [
    "group = group.drop(group.index)"
   ]
  },
  {
   "cell_type": "code",
   "execution_count": 5,
   "metadata": {},
   "outputs": [],
   "source": [
    "student = student.drop(student.index)"
   ]
  },
  {
   "cell_type": "code",
   "execution_count": 6,
   "metadata": {},
   "outputs": [],
   "source": [
    "faculty_name = ['ПМИ']\n",
    "degree = ['бакалавр', 'специалист', 'магистр']\n",
    "form_of_education = ['очная', 'заочная', 'вечерняя']\n",
    "basis_of_education = ['контрактная', 'бюджетная']\n",
    "year_of_formation = [2015, 2016, 2017]"
   ]
  },
  {
   "cell_type": "code",
   "execution_count": 7,
   "metadata": {},
   "outputs": [],
   "source": [
    "group.group_id = np.arange(1, 5)"
   ]
  },
  {
   "cell_type": "code",
   "execution_count": 8,
   "metadata": {},
   "outputs": [],
   "source": [
    "group.degree = group.group_id.apply(lambda x: np.random.choice(degree, p=[0.5, 0.2, 0.3]))\n",
    "group.form_of_education = group.group_id.apply(lambda x: np.random.choice(form_of_education, p=[0.7, 0.1, 0.2]))\n",
    "group.year_of_formation = group.group_id.apply(lambda x: np.random.choice(year_of_formation))"
   ]
  },
  {
   "cell_type": "code",
   "execution_count": 9,
   "metadata": {},
   "outputs": [
    {
     "data": {
      "text/html": [
       "<div>\n",
       "<style scoped>\n",
       "    .dataframe tbody tr th:only-of-type {\n",
       "        vertical-align: middle;\n",
       "    }\n",
       "\n",
       "    .dataframe tbody tr th {\n",
       "        vertical-align: top;\n",
       "    }\n",
       "\n",
       "    .dataframe thead th {\n",
       "        text-align: right;\n",
       "    }\n",
       "</style>\n",
       "<table border=\"1\" class=\"dataframe\">\n",
       "  <thead>\n",
       "    <tr style=\"text-align: right;\">\n",
       "      <th></th>\n",
       "      <th>group_id</th>\n",
       "      <th>group_name</th>\n",
       "      <th>faculty_name</th>\n",
       "      <th>course_num</th>\n",
       "      <th>year_of_formation</th>\n",
       "      <th>degree</th>\n",
       "      <th>form_of_education</th>\n",
       "    </tr>\n",
       "  </thead>\n",
       "  <tbody>\n",
       "    <tr>\n",
       "      <th>0</th>\n",
       "      <td>1</td>\n",
       "      <td>NaN</td>\n",
       "      <td>NaN</td>\n",
       "      <td>NaN</td>\n",
       "      <td>2017</td>\n",
       "      <td>магистр</td>\n",
       "      <td>очная</td>\n",
       "    </tr>\n",
       "    <tr>\n",
       "      <th>1</th>\n",
       "      <td>2</td>\n",
       "      <td>NaN</td>\n",
       "      <td>NaN</td>\n",
       "      <td>NaN</td>\n",
       "      <td>2016</td>\n",
       "      <td>магистр</td>\n",
       "      <td>очная</td>\n",
       "    </tr>\n",
       "    <tr>\n",
       "      <th>2</th>\n",
       "      <td>3</td>\n",
       "      <td>NaN</td>\n",
       "      <td>NaN</td>\n",
       "      <td>NaN</td>\n",
       "      <td>2016</td>\n",
       "      <td>магистр</td>\n",
       "      <td>очная</td>\n",
       "    </tr>\n",
       "    <tr>\n",
       "      <th>3</th>\n",
       "      <td>4</td>\n",
       "      <td>NaN</td>\n",
       "      <td>NaN</td>\n",
       "      <td>NaN</td>\n",
       "      <td>2017</td>\n",
       "      <td>специалист</td>\n",
       "      <td>очная</td>\n",
       "    </tr>\n",
       "  </tbody>\n",
       "</table>\n",
       "</div>"
      ],
      "text/plain": [
       "   group_id group_name faculty_name  course_num  year_of_formation  \\\n",
       "0         1        NaN          NaN         NaN               2017   \n",
       "1         2        NaN          NaN         NaN               2016   \n",
       "2         3        NaN          NaN         NaN               2016   \n",
       "3         4        NaN          NaN         NaN               2017   \n",
       "\n",
       "       degree form_of_education  \n",
       "0     магистр             очная  \n",
       "1     магистр             очная  \n",
       "2     магистр             очная  \n",
       "3  специалист             очная  "
      ]
     },
     "execution_count": 9,
     "metadata": {},
     "output_type": "execute_result"
    }
   ],
   "source": [
    "group"
   ]
  },
  {
   "cell_type": "code",
   "execution_count": 10,
   "metadata": {},
   "outputs": [],
   "source": [
    "group.group_name = group.degree.apply(lambda x: x[0].upper()) + \\\n",
    "group.year_of_formation.apply(lambda x: str(x)[-2:]) + \\\n",
    "'-' + group.group_id.apply(lambda x: ('000' + str(x))[-3:])\n"
   ]
  },
  {
   "cell_type": "code",
   "execution_count": 11,
   "metadata": {},
   "outputs": [],
   "source": [
    "group.course_num = group.year_of_formation.apply(lambda x: 2021-x)"
   ]
  },
  {
   "cell_type": "code",
   "execution_count": 12,
   "metadata": {},
   "outputs": [],
   "source": [
    "group.faculty_name = 'ПМИ'"
   ]
  },
  {
   "cell_type": "code",
   "execution_count": 13,
   "metadata": {},
   "outputs": [
    {
     "data": {
      "text/html": [
       "<div>\n",
       "<style scoped>\n",
       "    .dataframe tbody tr th:only-of-type {\n",
       "        vertical-align: middle;\n",
       "    }\n",
       "\n",
       "    .dataframe tbody tr th {\n",
       "        vertical-align: top;\n",
       "    }\n",
       "\n",
       "    .dataframe thead th {\n",
       "        text-align: right;\n",
       "    }\n",
       "</style>\n",
       "<table border=\"1\" class=\"dataframe\">\n",
       "  <thead>\n",
       "    <tr style=\"text-align: right;\">\n",
       "      <th></th>\n",
       "      <th>group_id</th>\n",
       "      <th>group_name</th>\n",
       "      <th>faculty_name</th>\n",
       "      <th>course_num</th>\n",
       "      <th>year_of_formation</th>\n",
       "      <th>degree</th>\n",
       "      <th>form_of_education</th>\n",
       "    </tr>\n",
       "  </thead>\n",
       "  <tbody>\n",
       "    <tr>\n",
       "      <th>0</th>\n",
       "      <td>1</td>\n",
       "      <td>М17-001</td>\n",
       "      <td>ПМИ</td>\n",
       "      <td>4</td>\n",
       "      <td>2017</td>\n",
       "      <td>магистр</td>\n",
       "      <td>очная</td>\n",
       "    </tr>\n",
       "    <tr>\n",
       "      <th>1</th>\n",
       "      <td>2</td>\n",
       "      <td>М16-002</td>\n",
       "      <td>ПМИ</td>\n",
       "      <td>5</td>\n",
       "      <td>2016</td>\n",
       "      <td>магистр</td>\n",
       "      <td>очная</td>\n",
       "    </tr>\n",
       "    <tr>\n",
       "      <th>2</th>\n",
       "      <td>3</td>\n",
       "      <td>М16-003</td>\n",
       "      <td>ПМИ</td>\n",
       "      <td>5</td>\n",
       "      <td>2016</td>\n",
       "      <td>магистр</td>\n",
       "      <td>очная</td>\n",
       "    </tr>\n",
       "    <tr>\n",
       "      <th>3</th>\n",
       "      <td>4</td>\n",
       "      <td>С17-004</td>\n",
       "      <td>ПМИ</td>\n",
       "      <td>4</td>\n",
       "      <td>2017</td>\n",
       "      <td>специалист</td>\n",
       "      <td>очная</td>\n",
       "    </tr>\n",
       "  </tbody>\n",
       "</table>\n",
       "</div>"
      ],
      "text/plain": [
       "   group_id group_name faculty_name  course_num  year_of_formation  \\\n",
       "0         1    М17-001          ПМИ           4               2017   \n",
       "1         2    М16-002          ПМИ           5               2016   \n",
       "2         3    М16-003          ПМИ           5               2016   \n",
       "3         4    С17-004          ПМИ           4               2017   \n",
       "\n",
       "       degree form_of_education  \n",
       "0     магистр             очная  \n",
       "1     магистр             очная  \n",
       "2     магистр             очная  \n",
       "3  специалист             очная  "
      ]
     },
     "execution_count": 13,
     "metadata": {},
     "output_type": "execute_result"
    }
   ],
   "source": [
    "group"
   ]
  },
  {
   "cell_type": "code",
   "execution_count": 14,
   "metadata": {},
   "outputs": [],
   "source": [
    "student.user_id = user.user_id"
   ]
  },
  {
   "cell_type": "code",
   "execution_count": 15,
   "metadata": {},
   "outputs": [],
   "source": [
    "student.group_id = student.user_id.apply(lambda x: np.random.choice(group.group_id.values))"
   ]
  },
  {
   "cell_type": "code",
   "execution_count": 16,
   "metadata": {},
   "outputs": [],
   "source": [
    "student.basis_of_education = student.user_id.apply(lambda x: np.random.choice(basis_of_education))"
   ]
  },
  {
   "cell_type": "code",
   "execution_count": 17,
   "metadata": {},
   "outputs": [],
   "source": [
    "student.year_of_entry = student.group_id.apply(lambda x: group[group.group_id==x].year_of_formation.values[0] + np.random.choice([0, -1], p=[0.95, 0.05]))"
   ]
  },
  {
   "cell_type": "code",
   "execution_count": 18,
   "metadata": {},
   "outputs": [],
   "source": [
    "group.to_csv('group.csv', index=False)\n",
    "student.to_csv('student.csv', index=False)"
   ]
  },
  {
   "cell_type": "code",
   "execution_count": null,
   "metadata": {},
   "outputs": [],
   "source": []
  }
 ],
 "metadata": {
  "kernelspec": {
   "display_name": "Python 3",
   "language": "python",
   "name": "python3"
  },
  "language_info": {
   "codemirror_mode": {
    "name": "ipython",
    "version": 3
   },
   "file_extension": ".py",
   "mimetype": "text/x-python",
   "name": "python",
   "nbconvert_exporter": "python",
   "pygments_lexer": "ipython3",
   "version": "3.8.5"
  }
 },
 "nbformat": 4,
 "nbformat_minor": 4
}
