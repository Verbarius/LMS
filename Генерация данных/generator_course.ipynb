{
 "cells": [
  {
   "cell_type": "code",
   "execution_count": 1,
   "metadata": {},
   "outputs": [],
   "source": [
    "import pandas as pd\n",
    "import numpy as np\n",
    "import random\n",
    "import os"
   ]
  },
  {
   "cell_type": "code",
   "execution_count": 2,
   "metadata": {},
   "outputs": [],
   "source": [
    "os.chdir('Data')"
   ]
  },
  {
   "cell_type": "code",
   "execution_count": 3,
   "metadata": {},
   "outputs": [],
   "source": [
    "course = pd.read_csv('course.csv')"
   ]
  },
  {
   "cell_type": "code",
   "execution_count": 4,
   "metadata": {},
   "outputs": [],
   "source": [
    "data = pd.read_excel('courses.xlsx').iloc[:, :2]"
   ]
  },
  {
   "cell_type": "code",
   "execution_count": 5,
   "metadata": {},
   "outputs": [],
   "source": [
    "data.columns = ['course_name', 'course_description']"
   ]
  },
  {
   "cell_type": "code",
   "execution_count": 6,
   "metadata": {},
   "outputs": [],
   "source": [
    "course[['course_name', 'course_description']] = data"
   ]
  },
  {
   "cell_type": "code",
   "execution_count": 7,
   "metadata": {},
   "outputs": [],
   "source": [
    "course['course_id'] = course.index.values + 1"
   ]
  },
  {
   "cell_type": "code",
   "execution_count": 8,
   "metadata": {},
   "outputs": [
    {
     "data": {
      "text/html": [
       "<div>\n",
       "<style scoped>\n",
       "    .dataframe tbody tr th:only-of-type {\n",
       "        vertical-align: middle;\n",
       "    }\n",
       "\n",
       "    .dataframe tbody tr th {\n",
       "        vertical-align: top;\n",
       "    }\n",
       "\n",
       "    .dataframe thead th {\n",
       "        text-align: right;\n",
       "    }\n",
       "</style>\n",
       "<table border=\"1\" class=\"dataframe\">\n",
       "  <thead>\n",
       "    <tr style=\"text-align: right;\">\n",
       "      <th></th>\n",
       "      <th>course_id</th>\n",
       "      <th>course_name</th>\n",
       "      <th>course_description</th>\n",
       "    </tr>\n",
       "  </thead>\n",
       "  <tbody>\n",
       "    <tr>\n",
       "      <th>0</th>\n",
       "      <td>1</td>\n",
       "      <td>Алгоритмы и структуры данных: построение и ана...</td>\n",
       "      <td>изучается один семестр. В рамках данной дисци...</td>\n",
       "    </tr>\n",
       "    <tr>\n",
       "      <th>1</th>\n",
       "      <td>2</td>\n",
       "      <td>Архитектура, дизайн и процесс разработки ПО</td>\n",
       "      <td>изучается два семестра. В рамках данной дисци...</td>\n",
       "    </tr>\n",
       "    <tr>\n",
       "      <th>2</th>\n",
       "      <td>3</td>\n",
       "      <td>Машинное обучение и прикладная математика в фи...</td>\n",
       "      <td>изучается три семестра. В рамках данной дисци...</td>\n",
       "    </tr>\n",
       "    <tr>\n",
       "      <th>3</th>\n",
       "      <td>4</td>\n",
       "      <td>Основы функционального программирования на Scala</td>\n",
       "      <td>является дисциплиной по выбору и изучается дв...</td>\n",
       "    </tr>\n",
       "    <tr>\n",
       "      <th>4</th>\n",
       "      <td>5</td>\n",
       "      <td>Эффективное программирование распределенных си...</td>\n",
       "      <td>является дисциплиной по выбору и рассчитана н...</td>\n",
       "    </tr>\n",
       "    <tr>\n",
       "      <th>5</th>\n",
       "      <td>6</td>\n",
       "      <td>Системы обработки и анализа больших данных в ф...</td>\n",
       "      <td>является дисциплиной по выбору и изучается дв...</td>\n",
       "    </tr>\n",
       "    <tr>\n",
       "      <th>6</th>\n",
       "      <td>7</td>\n",
       "      <td>Интеллектуальные системы обработки речи и есте...</td>\n",
       "      <td>является дисциплиной по выбору и изучается дв...</td>\n",
       "    </tr>\n",
       "    <tr>\n",
       "      <th>7</th>\n",
       "      <td>8</td>\n",
       "      <td>Тестирование, мета-программирование и параллел...</td>\n",
       "      <td>является дисциплиной по выбору и изучается дв...</td>\n",
       "    </tr>\n",
       "  </tbody>\n",
       "</table>\n",
       "</div>"
      ],
      "text/plain": [
       "   course_id                                        course_name  \\\n",
       "0          1  Алгоритмы и структуры данных: построение и ана...   \n",
       "1          2       Архитектура, дизайн и процесс разработки ПО   \n",
       "2          3  Машинное обучение и прикладная математика в фи...   \n",
       "3          4   Основы функционального программирования на Scala   \n",
       "4          5  Эффективное программирование распределенных си...   \n",
       "5          6  Системы обработки и анализа больших данных в ф...   \n",
       "6          7  Интеллектуальные системы обработки речи и есте...   \n",
       "7          8  Тестирование, мета-программирование и параллел...   \n",
       "\n",
       "                                  course_description  \n",
       "0  изучается один семестр. В рамках данной дисци...  \n",
       "1  изучается два семестра. В рамках данной дисци...  \n",
       "2  изучается три семестра. В рамках данной дисци...  \n",
       "3  является дисциплиной по выбору и изучается дв...  \n",
       "4  является дисциплиной по выбору и рассчитана н...  \n",
       "5  является дисциплиной по выбору и изучается дв...  \n",
       "6  является дисциплиной по выбору и изучается дв...  \n",
       "7  является дисциплиной по выбору и изучается дв...  "
      ]
     },
     "execution_count": 8,
     "metadata": {},
     "output_type": "execute_result"
    }
   ],
   "source": [
    "course"
   ]
  },
  {
   "cell_type": "code",
   "execution_count": 9,
   "metadata": {},
   "outputs": [],
   "source": [
    "course.to_csv('course.csv', index=False)"
   ]
  },
  {
   "cell_type": "code",
   "execution_count": null,
   "metadata": {},
   "outputs": [],
   "source": []
  }
 ],
 "metadata": {
  "kernelspec": {
   "display_name": "Python 3",
   "language": "python",
   "name": "python3"
  },
  "language_info": {
   "codemirror_mode": {
    "name": "ipython",
    "version": 3
   },
   "file_extension": ".py",
   "mimetype": "text/x-python",
   "name": "python",
   "nbconvert_exporter": "python",
   "pygments_lexer": "ipython3",
   "version": "3.8.5"
  }
 },
 "nbformat": 4,
 "nbformat_minor": 4
}
