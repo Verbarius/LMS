{
 "cells": [
  {
   "cell_type": "code",
   "execution_count": 1,
   "metadata": {},
   "outputs": [],
   "source": [
    "import pandas as pd\n",
    "import numpy as np\n",
    "import random\n",
    "import datetime\n",
    "import os"
   ]
  },
  {
   "cell_type": "code",
   "execution_count": 2,
   "metadata": {},
   "outputs": [],
   "source": [
    "os.chdir('Data')"
   ]
  },
  {
   "cell_type": "code",
   "execution_count": 3,
   "metadata": {},
   "outputs": [],
   "source": [
    "user = pd.read_csv('user.csv')\n",
    "group_x_course = pd.read_csv('group_x_course.csv')\n",
    "group = pd.read_csv('group.csv')\n",
    "student = pd.read_csv('student.csv')\n",
    "user_x_course = pd.read_csv('user_x_course.csv')\n",
    "course = pd.read_csv('course.csv')\n",
    "student_x_hw = pd.read_csv('student_x_hw.csv')\n",
    "homework = pd.read_csv('homework.csv')\n",
    "course_material = pd.read_csv('course_material.csv')"
   ]
  },
  {
   "cell_type": "code",
   "execution_count": 4,
   "metadata": {},
   "outputs": [],
   "source": [
    "course_material.add_date = pd.to_datetime(course_material.add_date)"
   ]
  },
  {
   "cell_type": "code",
   "execution_count": 5,
   "metadata": {},
   "outputs": [],
   "source": [
    "course_material.to_csv('course_material.csv', index=False)"
   ]
  },
  {
   "cell_type": "code",
   "execution_count": 6,
   "metadata": {},
   "outputs": [],
   "source": [
    "user_x_course = user_x_course.drop(user_x_course.index)\n",
    "student_x_hw = student_x_hw.drop(student_x_hw.index)"
   ]
  },
  {
   "cell_type": "code",
   "execution_count": 7,
   "metadata": {},
   "outputs": [],
   "source": [
    "teachers_id = user[user.user_role=='teacher']['user_id'].values"
   ]
  },
  {
   "cell_type": "code",
   "execution_count": 8,
   "metadata": {},
   "outputs": [],
   "source": [
    "teacher_course_dict = {}\n",
    "tcourses = set()\n",
    "for tid in teachers_id:\n",
    "    cid = random.choice(course.course_id.values)\n",
    "    teacher_course_dict[tid] = [cid]\n",
    "    tcourses.add(cid)\n",
    "    for i in range(random.choice([0, 1, 2])):\n",
    "        cid = random.choice(course.course_id.values)\n",
    "        if cid not in teacher_course_dict[tid]:\n",
    "            teacher_course_dict[tid].append(cid)\n",
    "            tcourses.add(cid)"
   ]
  },
  {
   "cell_type": "code",
   "execution_count": 9,
   "metadata": {},
   "outputs": [],
   "source": [
    "if 1 not in teacher_course_dict[tid]:\n",
    "    teacher_course_dict[tid].append(1)\n",
    "    tcourses.add(1)"
   ]
  },
  {
   "cell_type": "code",
   "execution_count": 10,
   "metadata": {},
   "outputs": [
    {
     "data": {
      "text/plain": [
       "{3: [2, 4], 4: [3, 4], 16: [2, 1]}"
      ]
     },
     "execution_count": 10,
     "metadata": {},
     "output_type": "execute_result"
    }
   ],
   "source": [
    "teacher_course_dict"
   ]
  },
  {
   "cell_type": "code",
   "execution_count": 11,
   "metadata": {},
   "outputs": [],
   "source": [
    "uids = []\n",
    "courses = []\n",
    "roles = []\n",
    "for k, vals in teacher_course_dict.items():\n",
    "    for v in vals:\n",
    "        uids.append(k)\n",
    "        courses.append(v)\n",
    "        roles.append('teacher')"
   ]
  },
  {
   "cell_type": "code",
   "execution_count": 12,
   "metadata": {},
   "outputs": [],
   "source": [
    "student_id = user[(user.user_role=='student') & (~user['password'].isna())].sample(len(student)//5).user_id.values"
   ]
  },
  {
   "cell_type": "code",
   "execution_count": 13,
   "metadata": {},
   "outputs": [],
   "source": [
    "student_course_dict = {}\n",
    "for sid in student_id:\n",
    "    gid = student[student.user_id == sid].group_id.values[0]\n",
    "    student_course_dict[sid] = group_x_course[group_x_course.group_id==gid].course_id.values"
   ]
  },
  {
   "cell_type": "code",
   "execution_count": 14,
   "metadata": {},
   "outputs": [],
   "source": [
    "for k, vals in student_course_dict.items():\n",
    "    for v in vals:\n",
    "        if (v in tcourses) and random.choice([True, False]):\n",
    "            uids.append(k)\n",
    "            courses.append(v)\n",
    "            roles.append('confidant')"
   ]
  },
  {
   "cell_type": "code",
   "execution_count": 15,
   "metadata": {},
   "outputs": [],
   "source": [
    "user_x_course['user_id'] = uids\n",
    "user_x_course['course_id'] = courses\n",
    "user_x_course['course_role'] = roles"
   ]
  },
  {
   "cell_type": "code",
   "execution_count": 16,
   "metadata": {},
   "outputs": [
    {
     "data": {
      "text/html": [
       "<div>\n",
       "<style scoped>\n",
       "    .dataframe tbody tr th:only-of-type {\n",
       "        vertical-align: middle;\n",
       "    }\n",
       "\n",
       "    .dataframe tbody tr th {\n",
       "        vertical-align: top;\n",
       "    }\n",
       "\n",
       "    .dataframe thead th {\n",
       "        text-align: right;\n",
       "    }\n",
       "</style>\n",
       "<table border=\"1\" class=\"dataframe\">\n",
       "  <thead>\n",
       "    <tr style=\"text-align: right;\">\n",
       "      <th></th>\n",
       "      <th>user_id</th>\n",
       "      <th>course_id</th>\n",
       "      <th>course_role</th>\n",
       "    </tr>\n",
       "  </thead>\n",
       "  <tbody>\n",
       "    <tr>\n",
       "      <th>0</th>\n",
       "      <td>3</td>\n",
       "      <td>2</td>\n",
       "      <td>teacher</td>\n",
       "    </tr>\n",
       "    <tr>\n",
       "      <th>1</th>\n",
       "      <td>3</td>\n",
       "      <td>4</td>\n",
       "      <td>teacher</td>\n",
       "    </tr>\n",
       "    <tr>\n",
       "      <th>2</th>\n",
       "      <td>4</td>\n",
       "      <td>3</td>\n",
       "      <td>teacher</td>\n",
       "    </tr>\n",
       "    <tr>\n",
       "      <th>3</th>\n",
       "      <td>4</td>\n",
       "      <td>4</td>\n",
       "      <td>teacher</td>\n",
       "    </tr>\n",
       "    <tr>\n",
       "      <th>4</th>\n",
       "      <td>16</td>\n",
       "      <td>2</td>\n",
       "      <td>teacher</td>\n",
       "    </tr>\n",
       "    <tr>\n",
       "      <th>5</th>\n",
       "      <td>16</td>\n",
       "      <td>1</td>\n",
       "      <td>teacher</td>\n",
       "    </tr>\n",
       "    <tr>\n",
       "      <th>6</th>\n",
       "      <td>14</td>\n",
       "      <td>1</td>\n",
       "      <td>confidant</td>\n",
       "    </tr>\n",
       "    <tr>\n",
       "      <th>7</th>\n",
       "      <td>14</td>\n",
       "      <td>2</td>\n",
       "      <td>confidant</td>\n",
       "    </tr>\n",
       "    <tr>\n",
       "      <th>8</th>\n",
       "      <td>14</td>\n",
       "      <td>3</td>\n",
       "      <td>confidant</td>\n",
       "    </tr>\n",
       "    <tr>\n",
       "      <th>9</th>\n",
       "      <td>15</td>\n",
       "      <td>3</td>\n",
       "      <td>confidant</td>\n",
       "    </tr>\n",
       "  </tbody>\n",
       "</table>\n",
       "</div>"
      ],
      "text/plain": [
       "   user_id  course_id course_role\n",
       "0        3          2     teacher\n",
       "1        3          4     teacher\n",
       "2        4          3     teacher\n",
       "3        4          4     teacher\n",
       "4       16          2     teacher\n",
       "5       16          1     teacher\n",
       "6       14          1   confidant\n",
       "7       14          2   confidant\n",
       "8       14          3   confidant\n",
       "9       15          3   confidant"
      ]
     },
     "execution_count": 16,
     "metadata": {},
     "output_type": "execute_result"
    }
   ],
   "source": [
    "user_x_course"
   ]
  },
  {
   "cell_type": "code",
   "execution_count": 17,
   "metadata": {},
   "outputs": [],
   "source": [
    "user_x_course.to_csv('user_x_course.csv', index=False)"
   ]
  },
  {
   "cell_type": "code",
   "execution_count": 18,
   "metadata": {},
   "outputs": [],
   "source": [
    "studenthw_id = user[(user.user_role=='student') & (~user['password'].isna())].user_id.values"
   ]
  },
  {
   "cell_type": "code",
   "execution_count": 19,
   "metadata": {},
   "outputs": [],
   "source": [
    "studenthw_course_dict = {}\n",
    "for sid in studenthw_id:\n",
    "    gid = student[student.user_id == sid].group_id.values[0]\n",
    "    if 1 in group_x_course[group_x_course.group_id==gid].course_id.values:\n",
    "        studenthw_course_dict[sid] = group_x_course[group_x_course.group_id==gid].course_id.values"
   ]
  },
  {
   "cell_type": "code",
   "execution_count": 20,
   "metadata": {},
   "outputs": [
    {
     "data": {
      "text/plain": [
       "{14: array([1, 2, 3]), 15: array([1, 2, 3])}"
      ]
     },
     "execution_count": 20,
     "metadata": {},
     "output_type": "execute_result"
    }
   ],
   "source": [
    "studenthw_course_dict"
   ]
  },
  {
   "cell_type": "code",
   "execution_count": 21,
   "metadata": {},
   "outputs": [],
   "source": [
    "homework.time_start = pd.to_datetime(homework.time_start)\n",
    "homework.time_end = pd.to_datetime(homework.time_end)"
   ]
  },
  {
   "cell_type": "code",
   "execution_count": 22,
   "metadata": {},
   "outputs": [],
   "source": [
    "days = (homework.time_end[0] - homework.time_start[0]).days"
   ]
  },
  {
   "cell_type": "code",
   "execution_count": 23,
   "metadata": {},
   "outputs": [
    {
     "data": {
      "text/plain": [
       "Timestamp('2020-10-21 11:00:00')"
      ]
     },
     "execution_count": 23,
     "metadata": {},
     "output_type": "execute_result"
    }
   ],
   "source": [
    "homework.time_start[0] + datetime.timedelta(days=19) + datetime.timedelta(hours=23)"
   ]
  },
  {
   "cell_type": "code",
   "execution_count": 24,
   "metadata": {},
   "outputs": [],
   "source": [
    "hw_idx = homework.hw_id.values"
   ]
  },
  {
   "cell_type": "code",
   "execution_count": 25,
   "metadata": {},
   "outputs": [],
   "source": [
    "hwusers = []\n",
    "hw_id = []\n",
    "time_send = []\n",
    "for user in studenthw_course_dict:\n",
    "    for hwid in hw_idx:\n",
    "        hwusers.append(user)\n",
    "        hw_id.append(hwid)\n",
    "        time_send.append(homework[homework.hw_id==hwid].time_start[homework[homework.hw_id==hwid].time_start.index[0]] \\\n",
    "                         + datetime.timedelta(days=int(random.choice(np.arange(days)))) \\\n",
    "                         + datetime.timedelta(hours=int(random.choice(np.arange(24)))))"
   ]
  },
  {
   "cell_type": "code",
   "execution_count": 26,
   "metadata": {},
   "outputs": [],
   "source": [
    "student_x_hw['user_id'] = hwusers"
   ]
  },
  {
   "cell_type": "code",
   "execution_count": 27,
   "metadata": {},
   "outputs": [],
   "source": [
    "student_x_hw['hw_id'] = hw_id"
   ]
  },
  {
   "cell_type": "code",
   "execution_count": 28,
   "metadata": {},
   "outputs": [],
   "source": [
    "student_x_hw['time_send'] = time_send"
   ]
  },
  {
   "cell_type": "code",
   "execution_count": 29,
   "metadata": {},
   "outputs": [],
   "source": [
    "student_x_hw['solution'] = 'some code'"
   ]
  },
  {
   "cell_type": "code",
   "execution_count": 30,
   "metadata": {},
   "outputs": [],
   "source": [
    "student_x_hw.to_csv('student_x_hw.csv', index=False)"
   ]
  },
  {
   "cell_type": "code",
   "execution_count": 31,
   "metadata": {},
   "outputs": [],
   "source": [
    "homework.to_csv('homework.csv', index=False)"
   ]
  },
  {
   "cell_type": "code",
   "execution_count": null,
   "metadata": {},
   "outputs": [],
   "source": []
  }
 ],
 "metadata": {
  "kernelspec": {
   "display_name": "Python 3",
   "language": "python",
   "name": "python3"
  },
  "language_info": {
   "codemirror_mode": {
    "name": "ipython",
    "version": 3
   },
   "file_extension": ".py",
   "mimetype": "text/x-python",
   "name": "python",
   "nbconvert_exporter": "python",
   "pygments_lexer": "ipython3",
   "version": "3.8.5"
  }
 },
 "nbformat": 4,
 "nbformat_minor": 4
}
